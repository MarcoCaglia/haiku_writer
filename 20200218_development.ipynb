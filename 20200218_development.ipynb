{
 "cells": [
  {
   "cell_type": "markdown",
   "metadata": {},
   "source": [
    "### Load Data"
   ]
  },
  {
   "cell_type": "code",
   "execution_count": 2,
   "metadata": {},
   "outputs": [],
   "source": [
    "import json\n",
    "import pandas as pd\n",
    "import re\n",
    "import requests\n",
    "import datetime"
   ]
  },
  {
   "cell_type": "code",
   "execution_count": 22,
   "metadata": {},
   "outputs": [],
   "source": [
    "test_file = './data/202003_scrape.json'\n",
    "\n",
    "with open(test_file, 'r') as f:\n",
    "    test_file = f.read()"
   ]
  },
  {
   "cell_type": "markdown",
   "metadata": {},
   "source": [
    "### Development"
   ]
  },
  {
   "cell_type": "code",
   "execution_count": 10,
   "metadata": {},
   "outputs": [],
   "source": [
    "test_df = pd.DataFrame.from_dict(test_file)"
   ]
  },
  {
   "cell_type": "code",
   "execution_count": 11,
   "metadata": {},
   "outputs": [
    {
     "data": {
      "text/html": [
       "<div>\n",
       "<style scoped>\n",
       "    .dataframe tbody tr th:only-of-type {\n",
       "        vertical-align: middle;\n",
       "    }\n",
       "\n",
       "    .dataframe tbody tr th {\n",
       "        vertical-align: top;\n",
       "    }\n",
       "\n",
       "    .dataframe thead th {\n",
       "        text-align: right;\n",
       "    }\n",
       "</style>\n",
       "<table border=\"1\" class=\"dataframe\">\n",
       "  <thead>\n",
       "    <tr style=\"text-align: right;\">\n",
       "      <th></th>\n",
       "      <th>timestamp</th>\n",
       "      <th>text</th>\n",
       "    </tr>\n",
       "  </thead>\n",
       "  <tbody>\n",
       "    <tr>\n",
       "      <th>0</th>\n",
       "      <td>[]</td>\n",
       "      <td>[]</td>\n",
       "    </tr>\n",
       "  </tbody>\n",
       "</table>\n",
       "</div>"
      ],
      "text/plain": [
       "  timestamp text\n",
       "0        []   []"
      ]
     },
     "execution_count": 11,
     "metadata": {},
     "output_type": "execute_result"
    }
   ],
   "source": [
    "test_df"
   ]
  },
  {
   "cell_type": "code",
   "execution_count": 6,
   "metadata": {},
   "outputs": [],
   "source": [
    "test_df.to_parquet('./data/test_file.parquet.gzip', engine='pyarrow', compression='gzip', index=False)"
   ]
  },
  {
   "cell_type": "code",
   "execution_count": 2,
   "metadata": {},
   "outputs": [],
   "source": [
    "x = '<span class=\"next-button\"><a href=\"https://old.reddit.com/r/haiku/?count=50&amp;after=t3_f55vtc\" rel=\"nofollow next\">next ›</a></span>\\n'"
   ]
  },
  {
   "cell_type": "code",
   "execution_count": 10,
   "metadata": {},
   "outputs": [
    {
     "data": {
      "text/plain": [
       "['class=\"next-button\"><a href=\"https://old.reddit.com/r/haiku/?count=50&amp;after=t3_f55vtc\"']"
      ]
     },
     "execution_count": 10,
     "metadata": {},
     "output_type": "execute_result"
    }
   ],
   "source": [
    "re.findall('class=\"next-button\"><a href=\"[^\"]+\"', x)"
   ]
  },
  {
   "cell_type": "code",
   "execution_count": 3,
   "metadata": {},
   "outputs": [],
   "source": [
    "res = requests.get('https://redditsearch.io/?term=&dataviz=false&aggs=false&subreddits=haiku&searchtype=posts&search=true&start=1583125474&end=1583211874&size=100')"
   ]
  },
  {
   "cell_type": "code",
   "execution_count": 4,
   "metadata": {},
   "outputs": [
    {
     "data": {
      "text/plain": [
       "b'<!DOCTYPE html>\\r\\n<html lang=\"en-US\">\\r\\n\\r\\n<head>\\r\\n  <meta name=\"viewport\" content=\"width=device-width, initial-scale=1.0, maximum-scale=1.0, user-scalable=no\" />\\r\\n  <meta charset=\"UTF-8\">\\r\\n  <meta name=\"description\" content=\"A comprehensive search engine and real-time analytics tracker for the website Reddit\">\\r\\n  <meta name=\"keywords\" content=\"Reddit,search,real-time,analytics,historical analysis,charts\">\\r\\n  <meta name=\"author\" content=\"Jason Baumgartner\">\\r\\n  <meta name=\"ROBOTS\" CONTENT=\"INDEX, NOFOLLOW\">\\r\\n  <title>Pushshift Reddit Search</title>\\r\\n  <script>\\r\\n    (function (i, s, o, g, r, a, m) {\\r\\n      i[\\'GoogleAnalyticsObject\\'] = r;\\r\\n      i[r] = i[r] || function () {\\r\\n        (i[r].q = i[r].q || []).push(arguments)\\r\\n      }, i[r].l = 1 * new Date();\\r\\n      a = s.createElement(o),\\r\\n        m = s.getElementsByTagName(o)[0];\\r\\n      a.async = 1;\\r\\n      a.src = g;\\r\\n      m.parentNode.insertBefore(a, m)\\r\\n    })(window, document, \\'script\\', \\'https://www.google-analytics.com/analytics.js\\', \\'ga\\');\\r\\n\\r\\n    ga(\\'create\\', \\'UA-89339443-1\\', \\'auto\\');\\r\\n    ga(\\'send\\', \\'pageview\\');\\r\\n  </script>\\r\\n  <link href=\\'https://fonts.googleapis.com/css?family=Raleway:400,300\\' rel=\\'stylesheet\\' type=\\'text/css\\'>\\r\\n  <link href=\\'https://fonts.googleapis.com/css?family=Unica+One\\' rel=\\'stylesheet\\' type=\\'text/css\\'>\\r\\n  <link href=\"https://fonts.googleapis.com/css?family=Roboto\" rel=\"stylesheet\">\\r\\n  <link rel=\"stylesheet\" href=\"//code.jquery.com/ui/1.12.0/themes/base/jquery-ui.css\">\\r\\n  <link rel=\"stylesheet\" type=\"text/css\" href=\"//fonts.googleapis.com/css?family=Ubuntu+Mono\" />\\r\\n  <link href=\"https://fonts.googleapis.com/css?family=Ropa+Sans\" rel=\"stylesheet\">\\r\\n  <script src=\"https://code.highcharts.com/stock/highstock.js\"></script>\\r\\n  <script src=\"https://code.highcharts.com/highcharts-more.js\"></script>\\r\\n  <script src=\"https://code.highcharts.com/modules/solid-gauge.js\"></script>\\r\\n  <script src=\"https://code.highcharts.com/highcharts-3d.js\"></script>\\r\\n  <script src=\"https://rawgithub.com/paulo-raca/highcharts-draggable-3d/master/draggable-3d.js\"></script>\\r\\n  <script src=\"https://cdnjs.cloudflare.com/ajax/libs/sprintf/1.0.3/sprintf.min.js\"></script>\\r\\n  <script src=\"https://cdn.jsdelivr.net/lodash/4.17.4/lodash.min.js\"></script>\\r\\n  <script src=\"https://cdnjs.cloudflare.com/ajax/libs/moment.js/2.18.1/moment.min.js\"></script>\\r\\n  <link href=\\'pushshift-theme.css\\' rel=\\'stylesheet\\' type=\\'text/css\\'>\\r\\n\\r\\n</head>\\r\\n\\r\\n<body>\\r\\n\\r\\n  <div class=\"radiowrapper\">\\r\\n    <div class=\"toggle_radio2\">\\r\\n      <input type=\"radio\" checked class=\"searchtype_option\" id=\"first_toggle2\" name=\"toggle_searchtype\" value=\"filters\">\\r\\n      <label for=\"first_toggle2\">\\r\\n        <span class=\"description\">Search</span>\\r\\n      </label>\\r\\n      <input type=\"radio\" class=\"searchtype_option\" id=\"second_toggle2\" name=\"toggle_searchtype\" value=\"advanced\">\\r\\n      <label for=\"second_toggle2\">\\r\\n        <span class=\"description\">Filters</span>\\r\\n      </label>\\r\\n      <input type=\"radio\" class=\"searchtype_option\" id=\"third_toggle2\" name=\"toggle_searchtype\" value=\"utilities\">\\r\\n      <label for=\"third_toggle2\">\\r\\n        <span class=\"description\">Utilities</span>\\r\\n      </label>\\r\\n      <input type=\"radio\" class=\"searchtype_option\" id=\"forth_toggle2\" name=\"toggle_searchtype\" value=\"help\">\\r\\n      <label for=\"forth_toggle2\">\\r\\n        <span class=\"description\">Help</span>\\r\\n      </label>\\r\\n      <input type=\"radio\" class=\"searchtype_option\" id=\"fifth_toggle2\" name=\"toggle_searchtype\" value=\"donate\">\\r\\n      <label for=\"fifth_toggle2\">\\r\\n        <span class=\"description\">Donate</span>\\r\\n      </label>\\r\\n      <div class=\"toggle_option_slider2\"></div>\\r\\n    </div>\\r\\n  </div>\\r\\n\\r\\n  <div class=\"radiowrapper\" id=\"searchtype-selection\">\\r\\n    <div class=\"toggle_check\">\\r\\n      <input type=\"checkbox\" checked class=\"check_option\" id=\"first_check\" name=\"checkbox_1\" value=\"posts\">\\r\\n      <label for=\"first_check\">Posts</label>\\r\\n      <input type=\"checkbox\" class=\"check_option\" id=\"second_check\" name=\"checkbox_1\" value=\"comments\">\\r\\n      <label for=\"second_check\">Comments</label>\\r\\n      <input type=\"checkbox\" class=\"check_option\" id=\"third_check\" name=\"checkbox_1\" value=\"aggs\">\\r\\n      <label for=\"third_check\">Aggregations</label>\\r\\n      <input type=\"checkbox\" class=\"check_option\" id=\"fourth_check\" name=\"checkbox_1\" value=\"stats\">\\r\\n      <label for=\"fourth_check\">Statistics</label>\\r\\n      <input type=\"checkbox\" class=\"check_option\" id=\"fifth_check\" name=\"checkbox_1\" value=\"dataviz\">\\r\\n      <label for=\"fifth_check\">Data Viz</label>\\r\\n    </div>\\r\\n  </div>\\r\\n\\r\\n  <div class=\"radiowrapper\" id=\"time-selection\">\\r\\n    <div class=\"toggle_radio\">\\r\\n      <input type=\"radio\" checked class=\"searchtime_option\" id=\"first_toggle\" name=\"toggle_option\" value=\"86400\">\\r\\n      <label for=\"first_toggle\">\\r\\n        <span class=\"description\">Day</span>\\r\\n      </label>\\r\\n      <input type=\"radio\" class=\"searchtime_option\" id=\"second_toggle\" name=\"toggle_option\" value=\"604800\">\\r\\n      <label for=\"second_toggle\">\\r\\n        <span class=\"description\">Week</span>\\r\\n      </label>\\r\\n      <input type=\"radio\" class=\"searchtime_option\" id=\"third_toggle\" name=\"toggle_option\" value=\"2678400\">\\r\\n      <label for=\"third_toggle\">\\r\\n        <span class=\"description\">Month</span>\\r\\n      </label>\\r\\n      <input type=\"radio\" class=\"searchtime_option\" id=\"forth_toggle\" name=\"toggle_option\" value=\"31536000\">\\r\\n      <label for=\"forth_toggle\">\\r\\n        <span class=\"description\">Year</span>\\r\\n      </label>\\r\\n      <input type=\"radio\" class=\"searchtime_option\" id=\"fifth_toggle\" name=\"toggle_option\" value=\"all\">\\r\\n      <label for=\"fifth_toggle\">\\r\\n        <span class=\"description\">All</span>\\r\\n      </label>\\r\\n      <input type=\"radio\" class=\"searchtime_option\" id=\"sixth_toggle\" name=\"toggle_option\" value=\"custom\">\\r\\n      <label for=\"sixth_toggle\">\\r\\n        <span class=\"description\">Custom</span>\\r\\n      </label>\\r\\n      <div class=\"toggle_option_slider\"></div>\\r\\n    </div>\\r\\n  </div>\\r\\n\\r\\n  <div id=\"custom-dates\">\\r\\n    <div class=\"parameters\">\\r\\n      <input type=\"text\" name=\"sstart\" id=\"sstart\" placeholder=\"mm/dd/yyyy hh:mm:ss\">\\r\\n      <label for=\"sterm\">Start Date</label>\\r\\n    </div>\\r\\n    <div class=\"parameters\">\\r\\n      <input type=\"text\" name=\"send\" id=\"send\" placeholder=\"mm/dd/yyyy hh:mm:ss\">\\r\\n      <label for=\"send\">End Date</label>\\r\\n    </div>\\r\\n  </div>\\r\\n\\r\\n  <div id=\"search\">\\r\\n    <div class=\"parameters\" id=\"stermcontainer\">\\r\\n      <input type=\"text\" name=\"sterm\" id=\"sterm\">\\r\\n      <label for=\"sterm\">Search Term</label>\\r\\n    </div>\\r\\n    <div id=\"utilities\">\\r\\n      <div class=\"parameters\">\\r\\n        <input type=\"text\" name=\"sanalyzeuser\" id=\"sanalyzeuser\">\\r\\n        <label for=\"sanalyzeuser\">User Analyzer</label>\\r\\n        <div class=\"icon\" id=\"snoo\"></div>\\r\\n        <button>Go!</button>\\r\\n      </div>\\r\\n      <div class=\"parameters\">\\r\\n        <input type=\"text\" name=\"sanalyzesubreddit\" id=\"sanalyzesubreddi\">\\r\\n        <label for=\"sanalyzesubreddi\">Subreddit Suggestions</label>\\r\\n        <div class=\"icon\" id=\"analyze-subreddit\">/r</div>\\r\\n      </div>\\r\\n    </div>\\r\\n    <div id=\"advanced\">\\r\\n      <div class=\"parameters\">\\r\\n        <input type=\"text\" name=\"smincommentscore\" id=\"smincommentscore\">\\r\\n        <label for=\"smincommentscore\">Min Score (Comments)</label>\\r\\n      </div>\\r\\n      <div class=\"parameters\">\\r\\n        <input type=\"text\" name=\"sminpostscore\" id=\"sminpostscore\">\\r\\n        <label for=\"sminpostscore\">Min Score (Posts)</label>\\r\\n      </div>\\r\\n      <div class=\"parameters\">\\r\\n        <input type=\"text\" name=\"sminnumcomments\" id=\"sminnumcomments\">\\r\\n        <label for=\"sminnumcomments\">Min # Comments (Posts)</label>\\r\\n      </div>\\r\\n      <div class=\"parameters\">\\r\\n        <input type=\"text\" name=\"ssize\" id=\"ssize\" value=\"100\">\\r\\n        <label for=\"ssize\">Result Size</label>\\r\\n      </div>\\r\\n    </div>\\r\\n    <div id=\"filters\">\\r\\n      <div class=\"parameters\">\\r\\n        <input type=\"text\" name=\"ssubreddits\" id=\"ssubreddits\" placeholder=\"All\">\\r\\n        <label for=\"ssubreddits\">Subreddits</label>\\r\\n      </div>\\r\\n      <div class=\"parameters\">\\r\\n        <input type=\"text\" name=\"sdomains\" id=\"sdomains\" placeholder=\"All\">\\r\\n        <label for=\"sdomains\">Domains</label>\\r\\n      </div>\\r\\n    </div>\\r\\n    <button id=\"execute-search\">Search</button>\\r\\n    <div id=\"previous-searches\" class =\"data-display\"></div>\\r\\n  </div>\\r\\n  <div id=\"status-container\" class=\"div-container data-display\">\\r\\n    <div id=\"status\">\\r\\n      <h2>Response Status</h2>\\r\\n      <div id=\"status-content\"></div>\\r\\n    </div>\\r\\n  </div>\\r\\n  <div id=\"stats-container\" class=\"div-container data-display\">\\r\\n    <div id=\"stats\">\\r\\n      <h2>Statistics</h2>\\r\\n      <div id=\"stats-control\"></div>\\r\\n      <div id=\"stats-content\"></div>\\r\\n    </div>\\r\\n  </div>\\r\\n  <div class=\"graph-container data-display\">\\r\\n    <div id=\"search-graph\"></div>\\r\\n  </div>\\r\\n  <div class=\"graph-container data-display\">\\r\\n    <div id=\"post-graph\"></div>\\r\\n  </div>\\r\\n  <div class=\"graph-container data-display\">\\r\\n    <div id=\"subreddit-graph\"></div>\\r\\n  </div>\\r\\n  <div class=\"graph-container data-display\">\\r\\n    <div id=\"domain-graph\"></div>\\r\\n  </div>\\r\\n  <div id=\"donate\">\\r\\n    <h2>Donations</h2>\\r\\n    <p>\\r\\n      Maintaining and running this project requires a lot of time and money. If you find this site useful and would like to donate,\\r\\n      please feel free to visit\\r\\n      <a href=\"https://pushshift.io/donations\">https://pushshift.io/donations</a> to make a donation. All money received from donations will be reinvested back into\\r\\n      this project and helps offset hardware and bandwidth costs.\\r\\n    </p>\\r\\n    <p>Thank you!</p>\\r\\n  </div>\\r\\n  <div id=\"help\">\\r\\n    <h2>Quick Contact Information</h2>\\r\\n\\r\\n    <p>Site Designer:\\r\\n      <a href=\"/cdn-cgi/l/email-protection#4e242f3d21200e3e3b3d263d2627283a602721\">Jason Baumgartner</a>\\r\\n    </p>\\r\\n\\r\\n    <h2>Welcome!</h2>\\r\\n    <p>Thank you for using Pushshift\\'s Reddit Search Application! This application was designed from the ground up to be feature\\r\\n      rich while offering a very minimalist UI. This application was built for academic study of Reddit by providing the\\r\\n      ability to quickly find information using a full-featured API. This application and the back-end that powers it was\\r\\n      designed and implemented using Elasticsearch, PostgreSQL, Redis, Python3 /w Falcon and lots of code.</p>\\r\\n    <p>If you have any questions about how to use this application, please send an e-mail to <a href=\"/cdn-cgi/l/email-protection\" class=\"__cf_email__\" data-cfemail=\"8de7ecfee2e3cdfdf8fee5fee5e4ebf9a3e4e2\">[email&#160;protected]</a> or PM stuck_in_the_matrix\\r\\n      on Reddit.</p>\\r\\n    <h2>First Column Controls (Search, Filters, Utilities, Help and Donate)</h2>\\r\\n    <p>This application allows you to search both Reddit comments and posts. You can aggregate data to see trends and also which\\r\\n      subreddits are most popular given a specific search term. You can also research specific subreddits or users using\\r\\n      this tool.</p>\\r\\n    <p>\\r\\n      The first column controls are the main controls that allow you to search, apply specific filters and to use utilities such\\r\\n      as the user and subreddit analyzer. </p>\\r\\n\\r\\n    <h3>Search</h3>\\r\\n    <p>When performing a search, the basic filters will appear which allow you to select a search term, subreddits and authors.\\r\\n      You can restrict your search to multiple subreddits by putting a comma between each subreddit. For example, if you\\r\\n      want to search for the term \"Einstein\" and restrict your search to the subreddits \"askscience\" and \"askhistorians,\"\\r\\n      you would put \"askscience,askhistorians\" in the Subreddits textbox (without the quotes).</p>\\r\\n    <p>You can also exclude subreddits from your search. For instance, if you want to search for the term \"NFL\" but want to\\r\\n      exclude the subreddit /r/football, you would put a \"!\" first in the Subreddits textbox followed by the subreddit\\r\\n      (\"!football\"). If you want to exclude multiple subreddits, use a comma to separate them. You only need to put one \"!\"\\r\\n      at the beginning. For example, putting \"!football,baseball\" in the Subreddits textbox would return results for\\r\\n      all subreddits except /r/football and /r/baseball.</p>\\r\\n    <p>The authors basic filter works the same way as the subreddits filter. You can exclude specific authors by putting \"!\"\\r\\n      first and then entering multiple authors separated by commas.\\r\\n    </p>\\r\\n\\r\\n    <h3>Filters</h3>\\r\\n    <p>Clicking \"Filters\" will bring up more advanced filtering and sorting options. [To be continued ...]</p>\\r\\n\\r\\n    <h3>Utilities</h3>\\r\\n    <p>Clicking \"Utilities\" will bring up new options including a user and subreddit analyzer. [To be continued ...]</p>\\r\\n\\r\\n    <h3>Help</h3>\\r\\n    <p>What you are reading now. Great work! :)</p>\\r\\n\\r\\n    <h3>Donations</h3>\\r\\n    <p>Information about how to donate to this project. Donations are greatly appreciated.</p>\\r\\n\\r\\n    <h2>Second Column Options (Posts, Comments, Aggregations, Statistics, Data Viz)</h2>\\r\\n    <p>These controls allow you to select the type of search you wish to execute. Multiple types can be selected simultaneously.</p>\\r\\n    <p>[To be continued ...]</p>\\r\\n    <h2>Third Column Time Controls (Day, Week, Month, Year, All, Custom)</h2>\\r\\n    <p>\\r\\n      The third column controls what time-frame you\\'d like to search in. If you want to see recent comments and posts, keep the\\r\\n      time-frame recent by selecting \"day\" or \"week.\" If you want to find older posts or comments, you can increase the time-frame\\r\\n      at the cost of having the search take longer to complete.</p>\\r\\n    <p>You can also specify your own custom time-frame by selecting \"Custom.\" You can enter just the date portion in the format\\r\\n      \"MM/DD/YYYY\" or, if you need to be more specific, you can also include the time portion using the format \"MM/DD/YYYY\\r\\n      HH:MM:SS\"\\r\\n    </p>\\r\\n  </div>\\r\\n  <div id=\"results-container\" class=\"data-display\">\\r\\n  <div id=\"posts\" class=\"results\"></div>\\r\\n  <div id=\"comments\" class=\"results\"></div>\\r\\n  </div>\\r\\n  <script data-cfasync=\"false\" src=\"/cdn-cgi/scripts/5c5dd728/cloudflare-static/email-decode.min.js\"></script><script src=\"https://code.jquery.com/jquery-3.2.1.min.js\" integrity=\"sha256-hwg4gsxgFZhOsEEamdOYGBf13FyQuiTwlAQgxVSNgt4=\"\\r\\n    crossorigin=\"anonymous\"></script>\\r\\n  <script src=\"https://code.jquery.com/ui/1.12.0/jquery-ui.min.js\"></script>\\r\\n  <script src=\"markup.js\"></script>\\r\\n  <script src=\"pushshift.js\"></script>\\r\\n</body>\\r\\n\\r\\n</html>\\r\\n'"
      ]
     },
     "execution_count": 4,
     "metadata": {},
     "output_type": "execute_result"
    }
   ],
   "source": [
    "res.content"
   ]
  },
  {
   "cell_type": "markdown",
   "metadata": {},
   "source": [
    "### Test Parquet"
   ]
  },
  {
   "cell_type": "code",
   "execution_count": 1,
   "metadata": {},
   "outputs": [],
   "source": [
    "import pandas as pd"
   ]
  },
  {
   "cell_type": "code",
   "execution_count": 2,
   "metadata": {},
   "outputs": [],
   "source": [
    "test = pd.read_parquet('./data/test_rsearch.parquet.gzip')"
   ]
  },
  {
   "cell_type": "code",
   "execution_count": 3,
   "metadata": {},
   "outputs": [
    {
     "data": {
      "text/html": [
       "<div>\n",
       "<style scoped>\n",
       "    .dataframe tbody tr th:only-of-type {\n",
       "        vertical-align: middle;\n",
       "    }\n",
       "\n",
       "    .dataframe tbody tr th {\n",
       "        vertical-align: top;\n",
       "    }\n",
       "\n",
       "    .dataframe thead th {\n",
       "        text-align: right;\n",
       "    }\n",
       "</style>\n",
       "<table border=\"1\" class=\"dataframe\">\n",
       "  <thead>\n",
       "    <tr style=\"text-align: right;\">\n",
       "      <th></th>\n",
       "      <th>text</th>\n",
       "      <th>body_text</th>\n",
       "      <th>author</th>\n",
       "      <th>timestamp</th>\n",
       "      <th>url</th>\n",
       "    </tr>\n",
       "  </thead>\n",
       "  <tbody>\n",
       "    <tr>\n",
       "      <th>0</th>\n",
       "      <td>恐れません, unafraid</td>\n",
       "      <td>rabbit at twilight\\n\\nstanding stoic near wood...</td>\n",
       "      <td>WitchWayToPleroma</td>\n",
       "      <td>1525565332</td>\n",
       "      <td>/r/haiku/comments/8hbibx/恐れません_unafraid/</td>\n",
       "    </tr>\n",
       "    <tr>\n",
       "      <th>1</th>\n",
       "      <td>the moon and the sun/an eternal cosmic dance/h...</td>\n",
       "      <td></td>\n",
       "      <td>JohnDaBo-BomB</td>\n",
       "      <td>1512220165</td>\n",
       "      <td>/r/haiku/comments/7h2jfn/the_moon_and_the_suna...</td>\n",
       "    </tr>\n",
       "    <tr>\n",
       "      <th>2</th>\n",
       "      <td>Putting slashes in / a random sentence does no...</td>\n",
       "      <td></td>\n",
       "      <td>Rambonatron</td>\n",
       "      <td>1511944162</td>\n",
       "      <td>/r/haiku/comments/7gbs2v/putting_slashes_in_a_...</td>\n",
       "    </tr>\n",
       "    <tr>\n",
       "      <th>3</th>\n",
       "      <td>勝利, victory</td>\n",
       "      <td>so many birds sing\\n\\nrobins, larks, crows, ev...</td>\n",
       "      <td>WitchWayToPleroma</td>\n",
       "      <td>1525603417</td>\n",
       "      <td>/r/haiku/comments/8hefxq/勝利_victory/</td>\n",
       "    </tr>\n",
       "    <tr>\n",
       "      <th>4</th>\n",
       "      <td>Trial: Let’s write some haiku together, reddit.</td>\n",
       "      <td>You may have seen the subreddit r/askouija.  H...</td>\n",
       "      <td>Kukur_</td>\n",
       "      <td>1536956804</td>\n",
       "      <td>/r/haiku/comments/9fvi8f/trial_lets_write_some...</td>\n",
       "    </tr>\n",
       "    <tr>\n",
       "      <th>...</th>\n",
       "      <td>...</td>\n",
       "      <td>...</td>\n",
       "      <td>...</td>\n",
       "      <td>...</td>\n",
       "      <td>...</td>\n",
       "    </tr>\n",
       "    <tr>\n",
       "      <th>995</th>\n",
       "      <td>A bunch of stoners / forming a new government ...</td>\n",
       "      <td></td>\n",
       "      <td>PeachesofFushimi</td>\n",
       "      <td>1522675860</td>\n",
       "      <td>/r/haiku/comments/88zayd/a_bunch_of_stoners_fo...</td>\n",
       "    </tr>\n",
       "    <tr>\n",
       "      <th>996</th>\n",
       "      <td>I've got a business / building boats in my att...</td>\n",
       "      <td></td>\n",
       "      <td>PeachesofFushimi</td>\n",
       "      <td>1521992482</td>\n",
       "      <td>/r/haiku/comments/871g90/ive_got_a_business_bu...</td>\n",
       "    </tr>\n",
       "    <tr>\n",
       "      <th>997</th>\n",
       "      <td>Drunk as a skunk</td>\n",
       "      <td>Damn I'm drunk, so drunk/\\nStumbling home, ah,...</td>\n",
       "      <td>Vayalin</td>\n",
       "      <td>1524305658</td>\n",
       "      <td>/r/haiku/comments/8duwv1/drunk_as_a_skunk/</td>\n",
       "    </tr>\n",
       "    <tr>\n",
       "      <th>998</th>\n",
       "      <td>I watched Moon river/ change directions in the...</td>\n",
       "      <td></td>\n",
       "      <td>Neutral_Neutral_</td>\n",
       "      <td>1523626360</td>\n",
       "      <td>/r/haiku/comments/8bz6fx/i_watched_moon_river_...</td>\n",
       "    </tr>\n",
       "    <tr>\n",
       "      <th>999</th>\n",
       "      <td>Over Under Grip/A Gasp For Air/Fatality</td>\n",
       "      <td>I can't remember the exact meter for Haikus, b...</td>\n",
       "      <td>sumguywith_internet</td>\n",
       "      <td>1524043727</td>\n",
       "      <td>/r/haiku/comments/8d4c91/over_under_gripa_gasp...</td>\n",
       "    </tr>\n",
       "  </tbody>\n",
       "</table>\n",
       "<p>1000 rows × 5 columns</p>\n",
       "</div>"
      ],
      "text/plain": [
       "                                                  text  \\\n",
       "0                                      恐れません, unafraid   \n",
       "1    the moon and the sun/an eternal cosmic dance/h...   \n",
       "2    Putting slashes in / a random sentence does no...   \n",
       "3                                          勝利, victory   \n",
       "4      Trial: Let’s write some haiku together, reddit.   \n",
       "..                                                 ...   \n",
       "995  A bunch of stoners / forming a new government ...   \n",
       "996  I've got a business / building boats in my att...   \n",
       "997                                   Drunk as a skunk   \n",
       "998  I watched Moon river/ change directions in the...   \n",
       "999            Over Under Grip/A Gasp For Air/Fatality   \n",
       "\n",
       "                                             body_text               author  \\\n",
       "0    rabbit at twilight\\n\\nstanding stoic near wood...    WitchWayToPleroma   \n",
       "1                                                             JohnDaBo-BomB   \n",
       "2                                                               Rambonatron   \n",
       "3    so many birds sing\\n\\nrobins, larks, crows, ev...    WitchWayToPleroma   \n",
       "4    You may have seen the subreddit r/askouija.  H...               Kukur_   \n",
       "..                                                 ...                  ...   \n",
       "995                                                        PeachesofFushimi   \n",
       "996                                                        PeachesofFushimi   \n",
       "997  Damn I'm drunk, so drunk/\\nStumbling home, ah,...              Vayalin   \n",
       "998                                                        Neutral_Neutral_   \n",
       "999  I can't remember the exact meter for Haikus, b...  sumguywith_internet   \n",
       "\n",
       "      timestamp                                                url  \n",
       "0    1525565332           /r/haiku/comments/8hbibx/恐れません_unafraid/  \n",
       "1    1512220165  /r/haiku/comments/7h2jfn/the_moon_and_the_suna...  \n",
       "2    1511944162  /r/haiku/comments/7gbs2v/putting_slashes_in_a_...  \n",
       "3    1525603417               /r/haiku/comments/8hefxq/勝利_victory/  \n",
       "4    1536956804  /r/haiku/comments/9fvi8f/trial_lets_write_some...  \n",
       "..          ...                                                ...  \n",
       "995  1522675860  /r/haiku/comments/88zayd/a_bunch_of_stoners_fo...  \n",
       "996  1521992482  /r/haiku/comments/871g90/ive_got_a_business_bu...  \n",
       "997  1524305658         /r/haiku/comments/8duwv1/drunk_as_a_skunk/  \n",
       "998  1523626360  /r/haiku/comments/8bz6fx/i_watched_moon_river_...  \n",
       "999  1524043727  /r/haiku/comments/8d4c91/over_under_gripa_gasp...  \n",
       "\n",
       "[1000 rows x 5 columns]"
      ]
     },
     "execution_count": 3,
     "metadata": {},
     "output_type": "execute_result"
    }
   ],
   "source": [
    "test"
   ]
  }
 ],
 "metadata": {
  "kernelspec": {
   "display_name": "Python 3",
   "language": "python",
   "name": "python3"
  },
  "language_info": {
   "codemirror_mode": {
    "name": "ipython",
    "version": 3
   },
   "file_extension": ".py",
   "mimetype": "text/x-python",
   "name": "python",
   "nbconvert_exporter": "python",
   "pygments_lexer": "ipython3",
   "version": "3.7.4"
  }
 },
 "nbformat": 4,
 "nbformat_minor": 4
}
