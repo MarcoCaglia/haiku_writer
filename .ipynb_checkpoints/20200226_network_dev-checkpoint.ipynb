{
 "cells": [
  {
   "cell_type": "markdown",
   "metadata": {},
   "source": [
    "### Load Data"
   ]
  },
  {
   "cell_type": "code",
   "execution_count": 1,
   "metadata": {},
   "outputs": [],
   "source": [
    "from tensorflow.keras.callbacks import LambdaCallback\n",
    "from tensorflow.keras.models import Sequential\n",
    "from tensorflow.keras.layers import Dense, LSTM\n",
    "from tensorflow.keras.layers import LSTM\n",
    "from tensorflow.keras.optimizers import RMSprop, Adam, Adadelta\n",
    "from tensorflow.keras.utils import get_file\n",
    "import tensorflow as tf\n",
    "import numpy as np\n",
    "import random\n",
    "import sys\n",
    "import io\n",
    "import requests\n",
    "import re\n",
    "import pandas as pd\n",
    "from itertools import chain\n",
    "from tqdm import tqdm\n",
    "import re\n",
    "from uuid import uuid4\n",
    "import matplotlib.pyplot as plt\n",
    "import seaborn as sns"
   ]
  },
  {
   "cell_type": "code",
   "execution_count": 2,
   "metadata": {},
   "outputs": [],
   "source": [
    "sess = tf.compat.v1.Session()"
   ]
  },
  {
   "cell_type": "code",
   "execution_count": 3,
   "metadata": {},
   "outputs": [],
   "source": [
    "haikus = pd.read_parquet('./data/scraped/202003_scrape.parquet.gzip')"
   ]
  },
  {
   "cell_type": "code",
   "execution_count": 4,
   "metadata": {},
   "outputs": [],
   "source": [
    "raw_text = haikus.text.unique().tolist()"
   ]
  },
  {
   "cell_type": "code",
   "execution_count": 5,
   "metadata": {},
   "outputs": [
    {
     "data": {
      "text/plain": [
       "2326"
      ]
     },
     "execution_count": 5,
     "metadata": {},
     "output_type": "execute_result"
    }
   ],
   "source": [
    "len(raw_text)"
   ]
  },
  {
   "cell_type": "markdown",
   "metadata": {},
   "source": [
    "### Developing"
   ]
  },
  {
   "cell_type": "code",
   "execution_count": 6,
   "metadata": {},
   "outputs": [],
   "source": [
    "text = [x.lower() for x in raw_text if isinstance(x, str)]\n",
    "text = [re.sub('[^a-z\\s/]', '', x) for x in text]\n",
    "text = [re.sub('(?<=/)/', '', x) for x in text]\n",
    "\n",
    "haiku_text = ' || '.join(text)"
   ]
  },
  {
   "cell_type": "code",
   "execution_count": 7,
   "metadata": {},
   "outputs": [],
   "source": [
    "chars = list(chain.from_iterable(haiku_text))\n",
    "chars = list(set(chars))"
   ]
  },
  {
   "cell_type": "code",
   "execution_count": 8,
   "metadata": {},
   "outputs": [
    {
     "name": "stderr",
     "output_type": "stream",
     "text": [
      "31it [00:00, 82764.75it/s]\n"
     ]
    }
   ],
   "source": [
    "encode = {}\n",
    "for i, unique_char in tqdm(enumerate(chars)):\n",
    "    encode[unique_char] = i\n",
    "\n",
    "decode = dict([(encode[key], key) for key in encode])"
   ]
  },
  {
   "cell_type": "code",
   "execution_count": 9,
   "metadata": {},
   "outputs": [
    {
     "name": "stdout",
     "output_type": "stream",
     "text": [
      "nb sentences: 52073\n"
     ]
    }
   ],
   "source": [
    "# cut the text in semi-redundant sequences of maxlen characters\n",
    "maxlen = 15\n",
    "step = 3\n",
    "sentences = []\n",
    "next_chars = []\n",
    "for i in range(0, len(haiku_text) - maxlen, step):\n",
    "    sentences.append(haiku_text[i: i + maxlen])\n",
    "    next_chars.append(haiku_text[i + maxlen])\n",
    "print('nb sentences:', len(sentences))"
   ]
  },
  {
   "cell_type": "code",
   "execution_count": 10,
   "metadata": {},
   "outputs": [
    {
     "name": "stdout",
     "output_type": "stream",
     "text": [
      "Vectorization...\n"
     ]
    }
   ],
   "source": [
    "print('Vectorization...')\n",
    "x = np.zeros((len(sentences), maxlen, len(chars)), dtype=np.bool)\n",
    "y = np.zeros((len(sentences), len(chars)), dtype=np.bool)\n",
    "for i, sentence in enumerate(sentences):\n",
    "    for t, char in enumerate(sentence):\n",
    "        x[i, t, encode[char]] = 1\n",
    "    y[i, encode[next_chars[i]]] = 1"
   ]
  },
  {
   "cell_type": "code",
   "execution_count": 11,
   "metadata": {},
   "outputs": [
    {
     "name": "stdout",
     "output_type": "stream",
     "text": [
      "Build model...\n"
     ]
    }
   ],
   "source": [
    "# build the model: a single LSTM\n",
    "print('Build model...')\n",
    "units = (128 * x for x in list(range(1, 3))[::-1])\n",
    "model = Sequential()\n",
    "model.add(LSTM(next(units), return_sequences=False, input_shape=(maxlen, len(chars))))\n",
    "model.add(Dense(len(chars), activation='softmax'))\n",
    "\n",
    "optimizer = RMSprop(lr=0.01)\n",
    "model.compile(loss='categorical_crossentropy', optimizer=optimizer)"
   ]
  },
  {
   "cell_type": "code",
   "execution_count": 12,
   "metadata": {},
   "outputs": [
    {
     "name": "stdout",
     "output_type": "stream",
     "text": [
      "Model: \"sequential\"\n",
      "_________________________________________________________________\n",
      "Layer (type)                 Output Shape              Param #   \n",
      "=================================================================\n",
      "lstm (LSTM)                  (None, 15, 256)           294912    \n",
      "_________________________________________________________________\n",
      "lstm_1 (LSTM)                (None, 128)               197120    \n",
      "_________________________________________________________________\n",
      "dense (Dense)                (None, 31)                3999      \n",
      "=================================================================\n",
      "Total params: 496,031\n",
      "Trainable params: 496,031\n",
      "Non-trainable params: 0\n",
      "_________________________________________________________________\n"
     ]
    }
   ],
   "source": [
    "model.summary()"
   ]
  },
  {
   "cell_type": "code",
   "execution_count": 13,
   "metadata": {
    "scrolled": true
   },
   "outputs": [
    {
     "name": "stdout",
     "output_type": "stream",
     "text": [
      "Train on 44262 samples, validate on 7811 samples\n",
      "Epoch 1/6\n",
      "44262/44262 [==============================] - 29s 651us/sample - loss: 2.5155 - val_loss: 2.1735\n",
      "Epoch 2/6\n",
      "44262/44262 [==============================] - 26s 598us/sample - loss: 2.0949 - val_loss: 1.9706\n",
      "Epoch 3/6\n",
      "44262/44262 [==============================] - 27s 602us/sample - loss: 1.8314 - val_loss: 1.8550\n",
      "Epoch 4/6\n",
      "44262/44262 [==============================] - 27s 610us/sample - loss: 1.7028 - val_loss: 1.8308\n",
      "Epoch 5/6\n",
      "44262/44262 [==============================] - 27s 600us/sample - loss: 1.5924 - val_loss: 1.8212\n",
      "Epoch 6/6\n",
      "44262/44262 [==============================] - 26s 587us/sample - loss: 1.4870 - val_loss: 1.8535\n"
     ]
    }
   ],
   "source": [
    "# Ignore useless W0819 warnings generated by TensorFlow 2.0.  Hopefully can remove this ignore in the future.\n",
    "# See https://github.com/tensorflow/tensorflow/issues/31308\n",
    "import logging, os\n",
    "logging.disable(logging.WARNING)\n",
    "os.environ[\"TF_CPP_MIN_LOG_LEVEL\"] = \"3\"\n",
    "\n",
    "# Fit the model\n",
    "history = model.fit(\n",
    "    x,\n",
    "    y,\n",
    "    batch_size=128,\n",
    "    epochs=6,\n",
    "    validation_split=0.15,\n",
    "    shuffle=True\n",
    ")"
   ]
  },
  {
   "cell_type": "code",
   "execution_count": 14,
   "metadata": {},
   "outputs": [
    {
     "data": {
      "image/png": "[encoded data removed]",
      "text/plain": [
       "<Figure size 720x720 with 1 Axes>"
      ]
     },
     "metadata": {
      "needs_background": "light"
     },
     "output_type": "display_data"
    }
   ],
   "source": [
    "tmp = pd.DataFrame.from_dict(history.history).reset_index()\n",
    "\n",
    "fig, ax = plt.subplots(figsize=(10, 10))\n",
    "\n",
    "sns.lineplot(x='index', y='loss', data=tmp, ax=ax)\n",
    "sns.lineplot(x='index', y='val_loss', data=tmp, ax=ax)\n",
    "_ = plt.xticks(tmp.index)"
   ]
  },
  {
   "cell_type": "code",
   "execution_count": 15,
   "metadata": {},
   "outputs": [],
   "source": [
    "def get_sample_output():\n",
    "    random_start_point = np.random.randint(0, len(haiku_text) - maxlen - 1)\n",
    "    sample_output = ''\n",
    "    start_sample = haiku_text[random_start_point:random_start_point + maxlen]\n",
    "    sample_output += start_sample\n",
    "    assert len(sample_output) == 15\n",
    "    for i in range(400):\n",
    "        next_prediction = model.predict(sample_encoding(sample_output[-15:]))\n",
    "        next_letter = sample_decode(next_prediction)\n",
    "        sample_output += next_letter\n",
    "\n",
    "    return sample_output\n",
    "\n",
    "def sample_encoding(sample):\n",
    "    encoded = np.zeros((1, len(sample), len(encode)), dtype=bool)\n",
    "    for i, char in enumerate(sample):\n",
    "        encoded[0, i, encode[char]] = 1\n",
    "        \n",
    "    return encoded\n",
    "\n",
    "def sample_decode(prediction):\n",
    "    preds = np.asarray(prediction).astype('float64')\n",
    "    preds = np.log(preds)\n",
    "    exp_preds = np.exp(preds)\n",
    "    preds = exp_preds / np.sum(exp_preds)\n",
    "    \n",
    "    letter = decode[np.argmax(preds)]\n",
    "    return letter"
   ]
  },
  {
   "cell_type": "code",
   "execution_count": 16,
   "metadata": {},
   "outputs": [],
   "source": [
    "test = get_sample_output()"
   ]
  },
  {
   "cell_type": "code",
   "execution_count": 17,
   "metadata": {},
   "outputs": [
    {
     "name": "stdout",
     "output_type": "stream",
     "text": [
      "gle / now a comere and shit / i will a shill / i will a shill / i will a shill / i will a shill / i will a shill / i will a shill / i will a shill / i will a shill / i will a shill / i will a shill / i will a shill / i will a shill / i will a shill / i will a shill / i will a shill / i will a shill / i will a shill / i will a shill / i will a shill / i will a shill / i will a shill / i will a shill / i will a sh\n"
     ]
    }
   ],
   "source": [
    "print(test)"
   ]
  }
 ],
 "metadata": {
  "kernelspec": {
   "display_name": "Python 3",
   "language": "python",
   "name": "python3"
  },
  "language_info": {
   "codemirror_mode": {
    "name": "ipython",
    "version": 3
   },
   "file_extension": ".py",
   "mimetype": "text/x-python",
   "name": "python",
   "nbconvert_exporter": "python",
   "pygments_lexer": "ipython3",
   "version": "3.7.4"
  }
 },
 "nbformat": 4,
 "nbformat_minor": 4
}
