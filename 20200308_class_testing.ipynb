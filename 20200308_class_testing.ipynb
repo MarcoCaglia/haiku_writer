{
 "cells": [
  {
   "cell_type": "markdown",
   "metadata": {},
   "source": [
    "### Load Data"
   ]
  },
  {
   "cell_type": "code",
   "execution_count": 1,
   "metadata": {},
   "outputs": [],
   "source": [
    "import os\n",
    "os.chdir('source')\n",
    "\n",
    "from executor import Executor\n",
    "import pandas as pd\n",
    "import pickle\n",
    "from tensorflow.keras.models import load_model\n",
    "\n",
    "LOCAL_TEST = True"
   ]
  },
  {
   "cell_type": "markdown",
   "metadata": {},
   "source": [
    "### Local test"
   ]
  },
  {
   "cell_type": "code",
   "execution_count": 2,
   "metadata": {
    "scrolled": true
   },
   "outputs": [
    {
     "name": "stdout",
     "output_type": "stream",
     "text": [
      "nb sentences: 52040\n",
      "Vectorization...\n",
      "Model: \"sequential\"\n",
      "_________________________________________________________________\n",
      "Layer (type)                 Output Shape              Param #   \n",
      "=================================================================\n",
      "lstm (LSTM)                  (None, 15, 128)           80896     \n",
      "_________________________________________________________________\n",
      "lstm_1 (LSTM)                (None, 64)                49408     \n",
      "_________________________________________________________________\n",
      "dense (Dense)                (None, 29)                1885      \n",
      "=================================================================\n",
      "Total params: 132,189\n",
      "Trainable params: 132,189\n",
      "Non-trainable params: 0\n",
      "_________________________________________________________________\n",
      "None\n",
      "Train on 44234 samples, validate on 7806 samples\n",
      "Epoch 1/10\n",
      "44234/44234 [==============================] - 22s 499us/sample - loss: 2.3592 - val_loss: 2.0618\n",
      "Epoch 2/10\n",
      "44234/44234 [==============================] - 12s 267us/sample - loss: 1.9339 - val_loss: 1.9016\n",
      "Epoch 3/10\n",
      "44234/44234 [==============================] - 13s 286us/sample - loss: 1.7850 - val_loss: 1.8453\n",
      "Epoch 4/10\n",
      "44234/44234 [==============================] - 13s 284us/sample - loss: 1.6757 - val_loss: 1.8198\n",
      "Epoch 5/10\n",
      "44234/44234 [==============================] - 12s 266us/sample - loss: 1.5884 - val_loss: 1.8259\n",
      "Epoch 6/10\n",
      "44234/44234 [==============================] - 12s 262us/sample - loss: 1.5025 - val_loss: 1.8424\n",
      "Epoch 7/10\n",
      "44234/44234 [==============================] - 12s 265us/sample - loss: 1.4277 - val_loss: 1.8739\n",
      "Epoch 8/10\n",
      "44234/44234 [==============================] - 13s 285us/sample - loss: 1.3649 - val_loss: 1.9385\n",
      "Epoch 9/10\n",
      "44234/44234 [==============================] - 14s 315us/sample - loss: 1.3033 - val_loss: 1.9768\n",
      "Epoch 10/10\n",
      "44234/44234 [==============================] - 14s 324us/sample - loss: 1.2540 - val_loss: 2.0108\n",
      "WARNING:tensorflow:From /home/marco/.local/share/virtualenvs/haiku_writer-Q02G04Gz/lib/python3.7/site-packages/tensorflow_core/python/ops/resource_variable_ops.py:1786: calling BaseResourceVariable.__init__ (from tensorflow.python.ops.resource_variable_ops) with constraint is deprecated and will be removed in a future version.\n",
      "Instructions for updating:\n",
      "If using Keras pass *_constraint arguments to layers.\n",
      "INFO:tensorflow:Assets written to: ../data/models/202003_haiku_writer/assets\n"
     ]
    }
   ],
   "source": [
    "if LOCAL_TEST:\n",
    "    exe = Executor()\n",
    "    exe.execute_pipeline()"
   ]
  },
  {
   "cell_type": "markdown",
   "metadata": {},
   "source": [
    "### Display results"
   ]
  },
  {
   "cell_type": "code",
   "execution_count": 3,
   "metadata": {},
   "outputs": [],
   "source": [
    "test = load_model('../data/models/202003_haiku_writer')"
   ]
  },
  {
   "cell_type": "code",
   "execution_count": 4,
   "metadata": {},
   "outputs": [
    {
     "name": "stdout",
     "output_type": "stream",
     "text": [
      "Model: \"sequential\"\n",
      "_________________________________________________________________\n",
      "Layer (type)                 Output Shape              Param #   \n",
      "=================================================================\n",
      "lstm (LSTM)                  (None, 15, 128)           80896     \n",
      "_________________________________________________________________\n",
      "lstm_1 (LSTM)                (None, 64)                49408     \n",
      "_________________________________________________________________\n",
      "dense (Dense)                (None, 29)                1885      \n",
      "=================================================================\n",
      "Total params: 132,189\n",
      "Trainable params: 132,189\n",
      "Non-trainable params: 0\n",
      "_________________________________________________________________\n"
     ]
    }
   ],
   "source": [
    "test.summary()"
   ]
  }
 ],
 "metadata": {
  "kernelspec": {
   "display_name": "Python 3",
   "language": "python",
   "name": "python3"
  },
  "language_info": {
   "codemirror_mode": {
    "name": "ipython",
    "version": 3
   },
   "file_extension": ".py",
   "mimetype": "text/x-python",
   "name": "python",
   "nbconvert_exporter": "python",
   "pygments_lexer": "ipython3",
   "version": "3.7.4"
  }
 },
 "nbformat": 4,
 "nbformat_minor": 4
}
